{
  "cells": [
    {
      "cell_type": "code",
      "execution_count": 3,
      "metadata": {
        "id": "rYsWcM1dZ8K3"
      },
      "outputs": [],
      "source": [
        "import pandas as pd\n",
        "\n",
        "df = pd.read_csv ('FoodBalanceSheets_E_Africa_NOFLAG.csv', encoding = 'Latin-1')\n",
        "# df.dropna()"
      ]
    },
    {
      "cell_type": "code",
      "source": [
        "# 11\n",
        "items = df.groupby('Item')\n",
        "items.sum()\n",
        "print('The total sum of Animal Fat produced in 2014 is 209460.54 and in 2017 is 269617.53')"
      ],
      "metadata": {
        "colab": {
          "base_uri": "https://localhost:8080/"
        },
        "id": "F3KGPKCgbGHB",
        "outputId": "826c9064-871d-4c94-b116-abfec757dfa1"
      },
      "execution_count": 4,
      "outputs": [
        {
          "output_type": "stream",
          "name": "stdout",
          "text": [
            "The total sum of Animal Fat produced in 2014 is 209460.54 and in 2017 is 269617.53\n"
          ]
        }
      ]
    },
    {
      "cell_type": "code",
      "source": [
        "# 12\n",
        "df.describe()\n",
        "print('The mean and standard deviation across the whole dataset for the year 2015 is 135.236 and 1603.404')"
      ],
      "metadata": {
        "colab": {
          "base_uri": "https://localhost:8080/"
        },
        "id": "sFxhwtEtcKPU",
        "outputId": "cfd4eafd-bba5-4501-945b-dd72693c205d"
      },
      "execution_count": 5,
      "outputs": [
        {
          "output_type": "stream",
          "name": "stdout",
          "text": [
            "The mean and standard deviation across the whole dataset for the year 2015 is 135.236 and 1603.404\n"
          ]
        }
      ]
    },
    {
      "cell_type": "code",
      "source": [
        "# 13\n",
        "year =  df['Y2016']\n",
        "missing_data =year.isna().sum()\n",
        "percentage = missing_data * 100/len(year)\n",
        "\n",
        "print(f'The total number and percentage of missing data in 2016 to 2 decimal places is {missing_data} and {percentage:.2f}')"
      ],
      "metadata": {
        "colab": {
          "base_uri": "https://localhost:8080/"
        },
        "id": "8Tuo6pKcc4G7",
        "outputId": "a294b6cc-5cd2-4e41-d7cd-2ba5752ababf"
      },
      "execution_count": 6,
      "outputs": [
        {
          "output_type": "stream",
          "name": "stdout",
          "text": [
            "The total number and percentage of missing data in 2016 to 2 decimal places is 1535 and 2.52\n"
          ]
        }
      ]
    },
    {
      "cell_type": "code",
      "source": [
        "#14\n",
        "ec = df.groupby('Element Code')\n",
        "ec.max()"
      ],
      "metadata": {
        "id": "osGKXX5Ohxox"
      },
      "execution_count": null,
      "outputs": []
    },
    {
      "cell_type": "code",
      "source": [
        "# 15\n",
        "element = df.groupby('Element')\n",
        "element.sum().iloc[7:8, 4:]\n",
        "print('2017 has the highest import quality')"
      ],
      "metadata": {
        "colab": {
          "base_uri": "https://localhost:8080/"
        },
        "id": "2VS6WIg-jHPm",
        "outputId": "bb1a2faf-e80d-4703-a6bf-268dfebd5265"
      },
      "execution_count": 8,
      "outputs": [
        {
          "output_type": "stream",
          "name": "stdout",
          "text": [
            "2017 has the highest import quality\n"
          ]
        }
      ]
    },
    {
      "cell_type": "code",
      "source": [
        "# 16\n",
        "element.sum()"
      ],
      "metadata": {
        "id": "KfsPvmWwlVJC"
      },
      "execution_count": null,
      "outputs": []
    },
    {
      "cell_type": "code",
      "source": [
        "# 18\n"
      ],
      "metadata": {
        "id": "uV9ClmN316WB"
      },
      "execution_count": null,
      "outputs": []
    },
    {
      "cell_type": "code",
      "source": [
        "# 19\n"
      ],
      "metadata": {
        "id": "w3epJrmB0zfw"
      },
      "execution_count": null,
      "outputs": []
    },
    {
      "cell_type": "code",
      "source": [
        "# 20\n",
        "number_of_countries = df['Area'].nunique()\n",
        "print(f'The total number of unique countries in the dataset is{number_of_countries}')"
      ],
      "metadata": {
        "colab": {
          "base_uri": "https://localhost:8080/"
        },
        "id": "lzzsUacIl9I2",
        "outputId": "b7c85cd9-8b17-470e-c1cd-85ba7bf47669"
      },
      "execution_count": 13,
      "outputs": [
        {
          "output_type": "stream",
          "name": "stdout",
          "text": [
            "The total number of unique countries in the dataset is49\n"
          ]
        }
      ]
    }
  ],
  "metadata": {
    "colab": {
      "collapsed_sections": [],
      "name": "TaskA.ipynb",
      "provenance": [],
      "toc_visible": true,
      "authorship_tag": "ABX9TyMSxiX+7I3Zm3UMXumbxIj1"
    },
    "kernelspec": {
      "display_name": "Python 3",
      "name": "python3"
    },
    "language_info": {
      "name": "python"
    }
  },
  "nbformat": 4,
  "nbformat_minor": 0
}